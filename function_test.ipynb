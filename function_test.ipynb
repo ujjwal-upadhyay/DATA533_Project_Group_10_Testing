{
 "cells": [
  {
   "cell_type": "code",
   "execution_count": 1,
   "id": "cbcecc7a-3f63-41ae-b89f-bd675e874d90",
   "metadata": {},
   "outputs": [],
   "source": [
    "from customer.Customer import Customer\n",
    "from customer.Search import Search\n",
    "from produce.Fruit import Apple, Banana, Pear, Orange, Grape\n",
    "from produce.Inventory import Inventory"
   ]
  },
  {
   "cell_type": "code",
   "execution_count": 2,
   "id": "b70cdc81-fefa-4519-bf6b-86e5a442f9a1",
   "metadata": {},
   "outputs": [
    {
     "name": "stdout",
     "output_type": "stream",
     "text": [
      "Module Fruit Test\n",
      "Apple\n",
      "fruit Apple, price 10\n",
      "10\n",
      "fruit Apple, discount 1\n",
      "1\n",
      "fruit Apple, inventory 24\n",
      "24\n",
      "fruit Apple, expire time 7\n",
      "7\n",
      "None\n",
      "See you next time!\n",
      "None\n",
      "Module Inventory Test\n",
      "fruit Apple, inventory 21\n",
      "fruit Banana, inventory 21\n",
      "fruit Pear, inventory 21\n",
      "fruit Orange, inventory 21\n",
      "fruit Grape, inventory 21\n",
      "fruit Apple, price 15\n",
      "10.5\n",
      "fruit Apple, expire time 7\n",
      "fruit Banana, expire time 7\n",
      "fruit Pear, expire time 7\n",
      "fruit Orange, expire time 7\n",
      "fruit Grape, expire time 7\n",
      "fruit Apple, discount 0.7\n",
      "fruit Grape, inventory 21, price 6\n",
      "fruit Orange, inventory 21, price 8\n",
      "fruit Banana, inventory 21, price 10\n",
      "fruit Apple, inventory 21, price 15\n",
      "fruit Pear, inventory 21, price 20\n",
      "Module Customer Test\n",
      "Please re-select the fruit you want to buy.\n",
      "Purchase List：\n",
      " Pear,5\n",
      "Module Search Test\n",
      "You have spent 100 dollars, and left 0.0 dollars.\n",
      "fruits Apple, price 15, inventory 21\n",
      "See you next time!\n",
      "Have a nice day!\n"
     ]
    }
   ],
   "source": [
    "if __name__ == '__main__':\n",
    "    print('Module Fruit Test')\n",
    "    apple =Apple(10,24)\n",
    "    print(apple.get_name())\n",
    "    print(apple.get_price())\n",
    "    print(apple.get_discount())\n",
    "    print(apple.get_inventory())\n",
    "    print(apple.get_expiry())\n",
    "    print(apple.set_discount(0.6))\n",
    "    print(apple.advertise())\n",
    "\n",
    "\n",
    "    print('Module Inventory Test')\n",
    "    inventory=Inventory()\n",
    "    inventory.get_inventory()\n",
    "    print(inventory.get_price('Apple'))\n",
    "    inventory.get_expiry()\n",
    "    inventory.get_discount('Apple')\n",
    "    inventory.get_sort_price()\n",
    "\n",
    "    print('Module Customer Test')\n",
    "    customer =Customer()\n",
    "    customer.set_budget(100)\n",
    "    customer.shop_item('Apple',10)\n",
    "    customer.clear_items()\n",
    "    customer.shop_item('Pear',5)\n",
    "    customer.items_detail()\n",
    "\n",
    "    print('Module Search Test')\n",
    "    search=Search()\n",
    "    search.set_customer(customer)\n",
    "    search.get_current_price()\n",
    "    search.fruit_detail('Apple')\n",
    "    search.sales()"
   ]
  },
  {
   "cell_type": "code",
   "execution_count": null,
   "id": "b827cddd-b9d4-4cae-8329-ad0cb0e27960",
   "metadata": {},
   "outputs": [
    {
     "name": "stdout",
     "output_type": "stream",
     "text": [
      "Welcome to ABC Fruit Market!\n"
     ]
    },
    {
     "name": "stdin",
     "output_type": "stream",
     "text": [
      "Press 1 to check product information in the store, press 2 start to purchase: 1\n"
     ]
    },
    {
     "name": "stdout",
     "output_type": "stream",
     "text": [
      "The current stock is as follows:\n",
      "fruit Apple, inventory 21\n",
      "fruit Banana, inventory 21\n",
      "fruit Pear, inventory 21\n",
      "fruit Orange, inventory 21\n",
      "fruit Grape, inventory 21\n"
     ]
    },
    {
     "name": "stdin",
     "output_type": "stream",
     "text": [
      "Whether to sort by price，Y-Yes；N-No： Y\n"
     ]
    },
    {
     "name": "stdout",
     "output_type": "stream",
     "text": [
      "Query inventory by price, the results are as follows:\n",
      "fruit Grape, inventory 21, price 6\n",
      "fruit Orange, inventory 21, price 8\n",
      "fruit Banana, inventory 21, price 10\n",
      "fruit Apple, inventory 21, price 15\n",
      "fruit Pear, inventory 21, price 20\n",
      "Welcome to ABC Fruit Market!\n"
     ]
    },
    {
     "name": "stdin",
     "output_type": "stream",
     "text": [
      "Press 1 to check product information in the store, press 2 start to purchase: 2\n",
      "Please enter your budget. 100\n",
      "Please enter the name of the fruit you want to buy, press Q to exit: Apple\n"
     ]
    },
    {
     "name": "stdout",
     "output_type": "stream",
     "text": [
      "fruits Apple, price 15, inventory 21\n"
     ]
    },
    {
     "name": "stdin",
     "output_type": "stream",
     "text": [
      "Please enter the number of fruits you want to buy： 3\n"
     ]
    },
    {
     "name": "stdout",
     "output_type": "stream",
     "text": [
      "Purchase List：\n",
      " Apple,3\n",
      "You have spent 45 dollars, and left 55.0 dollars.\n"
     ]
    },
    {
     "name": "stdin",
     "output_type": "stream",
     "text": [
      "Please enter the name of the fruit you want to buy, press Q to exit: Banana\n"
     ]
    },
    {
     "name": "stdout",
     "output_type": "stream",
     "text": [
      "fruits Banana, price 10, inventory 21\n"
     ]
    },
    {
     "name": "stdin",
     "output_type": "stream",
     "text": [
      "Please enter the number of fruits you want to buy： 10\n"
     ]
    },
    {
     "name": "stdout",
     "output_type": "stream",
     "text": [
      "Purchase List：\n",
      " Apple,3\n",
      " Banana,10\n",
      "Total price is 145 dollars, over budget for45.0dollars.\n"
     ]
    },
    {
     "name": "stdin",
     "output_type": "stream",
     "text": [
      "The budget is exceeded, do you want to settle at this price？N-No Y-Yes:  Y\n"
     ]
    },
    {
     "name": "stdout",
     "output_type": "stream",
     "text": [
      "Purchase List：\n",
      " Apple,3\n",
      " Banana,10\n",
      "Please settle at the current price.\n",
      "Total price is 145.\n",
      "See you next time!\n",
      "See you next time!\n",
      "Have a nice day!\n",
      "Welcome to ABC Fruit Market!\n"
     ]
    }
   ],
   "source": [
    "if __name__ == '__main__':\n",
    "    search = Search()\n",
    "    while True:\n",
    "        print('Welcome to ABC Fruit Market!')\n",
    "        customer = Customer()\n",
    "        search.set_customer(customer)\n",
    "        operation=input('Press 1 to check product information in the store, press 2 start to purchase:')\n",
    "        if(operation=='1'):\n",
    "            print('The current stock is as follows:')\n",
    "            search.get_inventory()\n",
    "            if(input('Whether to sort by price，Y-Yes；N-No：')=='Y'):\n",
    "                print('Query inventory by price, the results are as follows:')\n",
    "                search.get_sort_price()\n",
    "        if(operation=='2'):\n",
    "            budget = input('Please enter your budget.')\n",
    "            customer.set_budget(budget)\n",
    "            while True:\n",
    "                name=input('Please enter the name of the fruit you want to buy, press Q to exit:')\n",
    "                if name=='Q':\n",
    "                    break\n",
    "                if(not search.fruit_detail(name)):\n",
    "                    continue\n",
    "                num=input('Please enter the number of fruits you want to buy：')\n",
    "                customer.shop_item(name,num)\n",
    "                customer.items_detail()\n",
    "                isOver,all_price=search.get_current_price()\n",
    "                if(not isOver):\n",
    "                    choice_budget=input('The budget is exceeded, do you want to settle at this price？N-No Y-Yes: ')\n",
    "                    if(choice_budget=='N'):\n",
    "                        customer.clear_items()\n",
    "                        continue\n",
    "                    if(choice_budget=='Y'):\n",
    "                        customer.items_detail()\n",
    "                        print('Please settle at the current price.')\n",
    "                        print(f'Total price is {all_price}.')\n",
    "                        break\n",
    "            search.sales()\n"
   ]
  },
  {
   "cell_type": "code",
   "execution_count": null,
   "id": "179688ce-f27b-4cd1-bbbb-e3c71c8bcafd",
   "metadata": {},
   "outputs": [],
   "source": []
  }
 ],
 "metadata": {
  "kernelspec": {
   "display_name": "Python 3",
   "language": "python",
   "name": "python3"
  },
  "language_info": {
   "codemirror_mode": {
    "name": "ipython",
    "version": 3
   },
   "file_extension": ".py",
   "mimetype": "text/x-python",
   "name": "python",
   "nbconvert_exporter": "python",
   "pygments_lexer": "ipython3",
   "version": "3.9.12"
  }
 },
 "nbformat": 4,
 "nbformat_minor": 5
}
